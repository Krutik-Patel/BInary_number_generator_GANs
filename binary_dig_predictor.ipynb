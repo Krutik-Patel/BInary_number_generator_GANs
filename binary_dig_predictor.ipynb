{
 "cells": [
  {
   "cell_type": "markdown",
   "metadata": {},
   "source": [
    "# Building GAN to generate even numbers\n",
    "\n",
    "The following code builds a GAN (Generative Adversarial Network) that generates even numbers between zero and a number. First Generator and Discriminator modules are built, following which GAN is built. The data for the model is generated randomly for a batch size, which is used by the model for training the discriminator network.\n",
    "\n",
    "After training, some values are generated using the model to check the functioning of GAN"
   ]
  },
  {
   "cell_type": "code",
   "execution_count": 1,
   "metadata": {},
   "outputs": [],
   "source": [
    "import numpy as np\n",
    "import torch.nn as nn\n",
    "import torch\n",
    "import matplotlib.pyplot as plt"
   ]
  },
  {
   "cell_type": "markdown",
   "metadata": {},
   "source": [
    "## Generator and Discriminator Modules"
   ]
  },
  {
   "cell_type": "code",
   "execution_count": 2,
   "metadata": {},
   "outputs": [],
   "source": [
    "class Generator(nn.Module):\n",
    "\n",
    "    def __init__(self, input_length: int):\n",
    "    \n",
    "        super().__init__()\n",
    "\n",
    "        self.dense_layer = nn.Linear(int(input_length), int(input_length))\n",
    "        self.activation = nn.Sigmoid()\n",
    "\n",
    "    def forward(self, x):\n",
    "        return self.activation(self.dense_layer(x))"
   ]
  },
  {
   "cell_type": "code",
   "execution_count": 3,
   "metadata": {},
   "outputs": [],
   "source": [
    "class Discriminator(nn.Module):\n",
    "    def __init__(self, input_length: int):\n",
    "        super().__init__()\n",
    "\n",
    "        self.dense_layer = nn.Linear(int(input_length), 1)\n",
    "        self.activation = nn.Sigmoid()\n",
    "\n",
    "    def forward(self, x):\n",
    "        return self.activation(self.dense_layer(x))"
   ]
  },
  {
   "cell_type": "markdown",
   "metadata": {},
   "source": [
    "## Util functions for converting data to binary and visa-versa"
   ]
  },
  {
   "cell_type": "code",
   "execution_count": 4,
   "metadata": {},
   "outputs": [],
   "source": [
    "def number_to_binary(num, input_size):\n",
    "    # input_size = 7\n",
    "    ret = np.zeros(input_size)\n",
    "    for i in reversed(range(input_size)):\n",
    "        ret[i] = num % 2\n",
    "        num >>= 1\n",
    "    return ret\n",
    "\n",
    "def binary_to_number(num_arr, input_size):\n",
    "    ans = 0\n",
    "    num_arr = torch.round(num_arr).to(torch.int32)\n",
    "\n",
    "    for i in range(input_size):\n",
    "        ans <<= 1\n",
    "        ans += num_arr[i]\n",
    "    return ans\n",
    "\n",
    "def sample_even_data(input_size, max_int, batch_size):\n",
    "    data = torch.randint(0, max_int//2, size=(batch_size, 1)) * 2\n",
    "    data_bin = torch.tensor(np.array([number_to_binary(num.item(), input_size) for num in data]))\n",
    "    return torch.ones(batch_size, 1), data_bin"
   ]
  },
  {
   "cell_type": "markdown",
   "metadata": {},
   "source": [
    "### Testing module"
   ]
  },
  {
   "cell_type": "code",
   "execution_count": 5,
   "metadata": {},
   "outputs": [
    {
     "name": "stdout",
     "output_type": "stream",
     "text": [
      "tensor([0., 1., 0., 1., 0., 0., 0.], dtype=torch.float64)\n"
     ]
    },
    {
     "data": {
      "text/plain": [
       "tensor(40, dtype=torch.int32)"
      ]
     },
     "execution_count": 5,
     "metadata": {},
     "output_type": "execute_result"
    }
   ],
   "source": [
    "sampled = sample_even_data(7, 50, 5)\n",
    "print(sampled[1][1])\n",
    "binary_to_number(sampled[1][1], 7)"
   ]
  },
  {
   "cell_type": "markdown",
   "metadata": {},
   "source": [
    "## GAN module"
   ]
  },
  {
   "cell_type": "code",
   "execution_count": 6,
   "metadata": {},
   "outputs": [],
   "source": [
    "class GAN(nn.Module):\n",
    "    def __init__(self, input_length: int, lr=0.002):\n",
    "\n",
    "        super().__init__()\n",
    "        self.generator = Generator(input_length)\n",
    "        self.discriminator = Discriminator(input_length)\n",
    "\n",
    "        self.generator_optimizer = torch.optim.Adam(self.generator.parameters(), lr=lr)\n",
    "        self.discriminator_optimizer = torch.optim.Adam(self.discriminator.parameters(), lr=lr)\n",
    "        self.input_length = input_length\n",
    "        self.loss = nn.BCELoss()\n",
    "\n",
    "    def train_epoch(self, max_int, batch_size, input_length):\n",
    "        \n",
    "        # training Generator network, while Discriminator is Static\n",
    "        self.generator_optimizer.zero_grad()\n",
    "\n",
    "        noise = torch.randint(0, 2, size=(batch_size, input_length)).float()\n",
    "\n",
    "        generated_data = self.generator(noise)\n",
    "\n",
    "        true_labels, true_data = sample_even_data(input_length, max_int, batch_size=batch_size)\n",
    "\n",
    "        true_labels = torch.tensor(true_labels).float()\n",
    "        true_data = torch.tensor(true_data).float()\n",
    "\n",
    "        generator_discriminator_out = self.discriminator(generated_data)\n",
    "        generator_loss = self.loss(generator_discriminator_out, true_labels)\n",
    "        generator_loss.backward()\n",
    "        self.generator_optimizer.step()\n",
    "\n",
    "        # training Discriminator while Generator is static\n",
    "\n",
    "        self.discriminator_optimizer.zero_grad()\n",
    "\n",
    "        true_discriminator_out = self.discriminator(true_data)\n",
    "        true_discriminator_loss = self.loss(true_discriminator_out, true_labels)\n",
    "\n",
    "        generator_discriminator_out = self.discriminator(generated_data.detach())\n",
    "        generator_discriminator_loss = self.loss(generator_discriminator_out, torch.zeros(batch_size, 1))\n",
    "\n",
    "        discriminator_loss = (generator_discriminator_loss + true_discriminator_loss) / 2 \n",
    "\n",
    "        discriminator_loss.backward()\n",
    "        self.discriminator_optimizer.step()\n",
    "\n",
    "        return generator_loss, discriminator_loss\n",
    "\n",
    "    def fit(self, max_int: int = 128, batch_size: int = 16, training_steps: int = 100):\n",
    "        for i in range(training_steps):\n",
    "            generator_loss, discriminator_loss = self.train_epoch(max_int, batch_size, self.input_length)\n",
    "            \n",
    "            if not i % (training_steps / 10):\n",
    "                print(f\"Training Epoch: {i} Generator_loss: {generator_loss} Discriminator_loss: {discriminator_loss}\")\n",
    "\n",
    "    def generate(self, noise=None, samples=1):\n",
    "\n",
    "        generated_samples = torch.zeros(samples)\n",
    "        \n",
    "        for i in range(samples):\n",
    "            if noise is None:\n",
    "                noise = torch.randint(0, 2, size=(1, self.input_length)).float()\n",
    "            \n",
    "            generator_res = self.generator(noise).detach()[0].apply_(lambda x: 1 if x > 0.5 else 0)\n",
    "            generated_samples[i] = binary_to_number(generator_res, input_size=self.input_length)\n",
    "            noise = None\n",
    "\n",
    "        return generated_samples\n"
   ]
  },
  {
   "cell_type": "markdown",
   "metadata": {},
   "source": [
    "### Training GAN on binary dataset"
   ]
  },
  {
   "cell_type": "code",
   "execution_count": 7,
   "metadata": {},
   "outputs": [],
   "source": [
    "INPUT_LENGTH = 7\n",
    "TRAINING_STEPS = 10"
   ]
  },
  {
   "cell_type": "code",
   "execution_count": 8,
   "metadata": {},
   "outputs": [
    {
     "name": "stdout",
     "output_type": "stream",
     "text": [
      "Training Epoch: 0 Generator_loss: 0.6271079182624817 Discriminator_loss: 0.6895273923873901\n",
      "Training Epoch: 1 Generator_loss: 0.6241930723190308 Discriminator_loss: 0.7414681911468506\n",
      "Training Epoch: 2 Generator_loss: 0.6131768226623535 Discriminator_loss: 0.7192364931106567\n",
      "Training Epoch: 3 Generator_loss: 0.6267352104187012 Discriminator_loss: 0.7453137040138245\n",
      "Training Epoch: 4 Generator_loss: 0.6161572933197021 Discriminator_loss: 0.7694956064224243\n",
      "Training Epoch: 5 Generator_loss: 0.6224527359008789 Discriminator_loss: 0.7655220031738281\n",
      "Training Epoch: 6 Generator_loss: 0.6251683235168457 Discriminator_loss: 0.742914080619812\n",
      "Training Epoch: 7 Generator_loss: 0.623621940612793 Discriminator_loss: 0.730674147605896\n",
      "Training Epoch: 8 Generator_loss: 0.6316097378730774 Discriminator_loss: 0.7577064633369446\n",
      "Training Epoch: 9 Generator_loss: 0.6246239542961121 Discriminator_loss: 0.7081093788146973\n"
     ]
    },
    {
     "name": "stderr",
     "output_type": "stream",
     "text": [
      "C:\\Users\\patel\\AppData\\Local\\Temp\\ipykernel_34108\\2928542728.py:24: UserWarning: To copy construct from a tensor, it is recommended to use sourceTensor.clone().detach() or sourceTensor.clone().detach().requires_grad_(True), rather than torch.tensor(sourceTensor).\n",
      "  true_labels = torch.tensor(true_labels).float()\n",
      "C:\\Users\\patel\\AppData\\Local\\Temp\\ipykernel_34108\\2928542728.py:25: UserWarning: To copy construct from a tensor, it is recommended to use sourceTensor.clone().detach() or sourceTensor.clone().detach().requires_grad_(True), rather than torch.tensor(sourceTensor).\n",
      "  true_data = torch.tensor(true_data).float()\n"
     ]
    }
   ],
   "source": [
    "model = GAN(INPUT_LENGTH)\n",
    "model.fit(training_steps=TRAINING_STEPS)"
   ]
  },
  {
   "cell_type": "markdown",
   "metadata": {},
   "source": [
    "### Generating values from GAN"
   ]
  },
  {
   "cell_type": "code",
   "execution_count": 9,
   "metadata": {},
   "outputs": [],
   "source": [
    "# Number of samples to generate\n",
    "num_samples = 10"
   ]
  },
  {
   "cell_type": "code",
   "execution_count": 10,
   "metadata": {},
   "outputs": [
    {
     "data": {
      "text/plain": [
       "tensor([107., 109., 108., 104., 123., 126.,  91., 121., 125., 125.])"
      ]
     },
     "execution_count": 10,
     "metadata": {},
     "output_type": "execute_result"
    }
   ],
   "source": [
    "model.generate(samples=num_samples)"
   ]
  },
  {
   "cell_type": "markdown",
   "metadata": {},
   "source": [
    "### Distribution of Generated Values"
   ]
  },
  {
   "cell_type": "code",
   "execution_count": 11,
   "metadata": {},
   "outputs": [
    {
     "data": {
      "image/png": "[encoded data removed]",
      "text/plain": [
       "<Figure size 640x480 with 1 Axes>"
      ]
     },
     "metadata": {},
     "output_type": "display_data"
    }
   ],
   "source": [
    "TEST_SAMPLES = 5000\n",
    "\n",
    "generated_vals = model.generate(samples=TEST_SAMPLES)\n",
    "\n",
    "plt.hist(generated_vals.numpy(), bins=64, alpha=0.7, color='blue', rwidth=0.85)\n",
    "plt.title('Histogram of Generated Numbers (Total 5000)')\n",
    "plt.xlabel('Generated number')\n",
    "plt.ylabel('Frequency')\n",
    "plt.grid(axis='y', linestyle='--', alpha=0.7)\n",
    "plt.show()"
   ]
  },
  {
   "cell_type": "markdown",
   "metadata": {},
   "source": [
    "NOTE: Changing the number of epochs, massively affects the distribution of the above graph. "
   ]
  }
 ],
 "metadata": {
  "kernelspec": {
   "display_name": "Python 3",
   "language": "python",
   "name": "python3"
  },
  "language_info": {
   "codemirror_mode": {
    "name": "ipython",
    "version": 3
   },
   "file_extension": ".py",
   "mimetype": "text/x-python",
   "name": "python",
   "nbconvert_exporter": "python",
   "pygments_lexer": "ipython3",
   "version": "3.11.3"
  }
 },
 "nbformat": 4,
 "nbformat_minor": 2
}
